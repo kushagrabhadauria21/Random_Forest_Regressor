{
  "nbformat": 4,
  "nbformat_minor": 0,
  "metadata": {
    "colab": {
      "provenance": [],
      "authorship_tag": "ABX9TyPzSmX75DjCUgNep/7yJPn1",
      "include_colab_link": true
    },
    "kernelspec": {
      "name": "python3",
      "display_name": "Python 3"
    },
    "language_info": {
      "name": "python"
    }
  },
  "cells": [
    {
      "cell_type": "markdown",
      "metadata": {
        "id": "view-in-github",
        "colab_type": "text"
      },
      "source": [
        "<a href=\"https://colab.research.google.com/github/kushagrabhadauria21/Random_Forest_Regressor/blob/main/Random_forest_Regressor.ipynb\" target=\"_parent\"><img src=\"https://colab.research.google.com/assets/colab-badge.svg\" alt=\"Open In Colab\"/></a>"
      ]
    },
    {
      "cell_type": "markdown",
      "source": [
        "##**importing libraries**"
      ],
      "metadata": {
        "id": "O7Q6rf1HuTC6"
      }
    },
    {
      "cell_type": "code",
      "execution_count": 4,
      "metadata": {
        "id": "8GJ--IqStK1W"
      },
      "outputs": [],
      "source": [
        "import pandas as pd\n",
        "import numpy as np\n",
        "import matplotlib.pyplot as plt"
      ]
    },
    {
      "cell_type": "markdown",
      "source": [
        "##**importing dataset**"
      ],
      "metadata": {
        "id": "21R-dAvquqNN"
      }
    },
    {
      "cell_type": "code",
      "source": [
        "df=pd.read_csv('Position_Salaries.csv')\n",
        "X=df.iloc[:, 1:2].values\n",
        "y=df.iloc[:, -1].values\n"
      ],
      "metadata": {
        "id": "VHgVq0Ymuezb"
      },
      "execution_count": 5,
      "outputs": []
    },
    {
      "cell_type": "markdown",
      "source": [
        "##**implementing Random FOrest REgression**"
      ],
      "metadata": {
        "id": "Us9BgcIkvjxJ"
      }
    },
    {
      "cell_type": "code",
      "source": [
        "from sklearn.ensemble import RandomForestRegressor\n",
        "reg= RandomForestRegressor(n_estimators=10, random_state=0)\n",
        "reg.fit(X,y)\n",
        "y_pred=reg.predict(X)\n",
        "y_pred"
      ],
      "metadata": {
        "colab": {
          "base_uri": "https://localhost:8080/"
        },
        "id": "OHEXPqauvHrD",
        "outputId": "a2b9984d-a3c2-47bd-da56-aa9bc8671d93"
      },
      "execution_count": 8,
      "outputs": [
        {
          "output_type": "execute_result",
          "data": {
            "text/plain": [
              "array([ 46000.,  49000.,  59000.,  74000., 101000., 136000., 210000.,\n",
              "       305000., 470000., 850000.])"
            ]
          },
          "metadata": {},
          "execution_count": 8
        }
      ]
    },
    {
      "cell_type": "markdown",
      "source": [
        "##**plotting a new result**"
      ],
      "metadata": {
        "id": "8I_mqyn_xMuK"
      }
    },
    {
      "cell_type": "code",
      "source": [
        "X_grid=np.arange(min(X), max(X), 0.01 )\n",
        "X_grid= X_grid.reshape((len(X_grid), 1))\n",
        "plt.scatter(X, y, color=\"red\")\n",
        "plt.plot(X_grid, reg.predict(X_grid), color='blue')\n",
        "plt.title(\"Predicting previous Salary of employee\")\n",
        "plt.xlabel(\"Level\")\n",
        "plt.ylabel(\"Salary\")"
      ],
      "metadata": {
        "colab": {
          "base_uri": "https://localhost:8080/",
          "height": 489
        },
        "id": "pjQPFoDVwYMB",
        "outputId": "ce54b96b-461a-446b-d2d9-fe651c546746"
      },
      "execution_count": 18,
      "outputs": [
        {
          "output_type": "execute_result",
          "data": {
            "text/plain": [
              "Text(0, 0.5, 'Salary')"
            ]
          },
          "metadata": {},
          "execution_count": 18
        },
        {
          "output_type": "display_data",
          "data": {
            "text/plain": [
              "<Figure size 640x480 with 1 Axes>"
            ],
            "image/png": "[encoded data removed]"
          },
          "metadata": {}
        }
      ]
    },
    {
      "cell_type": "markdown",
      "source": [
        "##**Evaluating the model performance**"
      ],
      "metadata": {
        "id": "qWzqaXucwBKo"
      }
    },
    {
      "cell_type": "code",
      "source": [
        "from sklearn.metrics import r2_score\n",
        "r2_score(y, y_pred)"
      ],
      "metadata": {
        "colab": {
          "base_uri": "https://localhost:8080/"
        },
        "id": "2YzN8FulwGEF",
        "outputId": "e67cbbc0-ba8d-4445-f532-6d283eb53e7f"
      },
      "execution_count": 10,
      "outputs": [
        {
          "output_type": "execute_result",
          "data": {
            "text/plain": [
              "0.9704434230386582"
            ]
          },
          "metadata": {},
          "execution_count": 10
        }
      ]
    }
  ]
}